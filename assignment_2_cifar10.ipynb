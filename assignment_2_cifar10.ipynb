{
  "nbformat": 4,
  "nbformat_minor": 0,
  "metadata": {
    "colab": {
      "provenance": []
    },
    "kernelspec": {
      "name": "python3",
      "display_name": "Python 3"
    },
    "language_info": {
      "name": "python"
    }
  },
  "cells": [
    {
      "cell_type": "code",
      "source": [
        "from sklearn.preprocessing import LabelBinarizer\n",
        "from sklearn.metrics import classification_report\n",
        "from tensorflow.keras.models import Sequential\n",
        "from tensorflow.keras.layers import Dense\n",
        "from tensorflow.keras.optimizers import SGD\n",
        "from tensorflow.keras.datasets import cifar10\n",
        "import matplotlib.pyplot as plt\n",
        "import numpy as np\n",
        "import argparse"
      ],
      "metadata": {
        "id": "nv_L6O22OJI3"
      },
      "execution_count": 4,
      "outputs": []
    },
    {
      "cell_type": "code",
      "source": [
        "# load the training and testing data, scale it into the range [0, 1],\n",
        "# then reshape the design matrix\n",
        "print(\"[INFO] loading CIFAR-10 data...\")\n",
        "((trainX, trainY), (testX, testY)) = cifar10.load_data()\n",
        "trainX = trainX.astype(\"float\") / 255.0\n",
        "testX = testX.astype(\"float\") / 255.0\n",
        "trainX = trainX.reshape((trainX.shape[0], 3072))\n",
        "testX = testX.reshape((testX.shape[0], 3072))"
      ],
      "metadata": {
        "colab": {
          "base_uri": "https://localhost:8080/"
        },
        "id": "gV4muDDCPHxn",
        "outputId": "586765ba-f4db-4f6e-cf44-bb4b3c8104db"
      },
      "execution_count": 9,
      "outputs": [
        {
          "output_type": "stream",
          "name": "stdout",
          "text": [
            "[INFO] loading CIFAR-10 data...\n",
            "Downloading data from https://www.cs.toronto.edu/~kriz/cifar-10-python.tar.gz\n",
            "170498071/170498071 [==============================] - 4s 0us/step\n"
          ]
        }
      ]
    },
    {
      "cell_type": "code",
      "source": [
        "# convert the labels from integers to vectors\n",
        "lb = LabelBinarizer()\n",
        "trainY = lb.fit_transform(trainY)\n",
        "testY = lb.transform(testY)\n",
        "# initialize the label names for the CIFAR-10 dataset\n",
        "labelNames = [\"airplane\", \"automobile\", \"bird\", \"cat\", \"deer\",\n",
        "\t\"dog\", \"frog\", \"horse\", \"ship\", \"truck\"]"
      ],
      "metadata": {
        "id": "aSdVP6UDPLf-"
      },
      "execution_count": 10,
      "outputs": []
    },
    {
      "cell_type": "code",
      "source": [
        "# define the 3072-1024-512-10 architecture using Keras\n",
        "model = Sequential()\n",
        "model.add(Dense(1024, input_shape=(3072,), activation=\"relu\"))\n",
        "model.add(Dense(512, activation=\"relu\"))\n",
        "model.add(Dense(10, activation=\"softmax\"))"
      ],
      "metadata": {
        "id": "DZwa-b3wPRIw"
      },
      "execution_count": 11,
      "outputs": []
    },
    {
      "cell_type": "code",
      "source": [
        "# train the model using SGD\n",
        "print(\"[INFO] training network...\")\n",
        "sgd = SGD(0.01)\n",
        "model.compile(loss=\"categorical_crossentropy\", optimizer=sgd,\n",
        "\tmetrics=[\"accuracy\"])\n",
        "H = model.fit(trainX, trainY, validation_data=(testX, testY),\n",
        "\tepochs=10, batch_size=32)"
      ],
      "metadata": {
        "colab": {
          "base_uri": "https://localhost:8080/"
        },
        "id": "aopvZ5n_PVE2",
        "outputId": "2afdc0e4-b490-4b52-9d91-db1aea4322a9"
      },
      "execution_count": 13,
      "outputs": [
        {
          "output_type": "stream",
          "name": "stdout",
          "text": [
            "[INFO] training network...\n",
            "Epoch 1/10\n",
            "1563/1563 [==============================] - 40s 25ms/step - loss: 1.7456 - accuracy: 0.3823 - val_loss: 1.6767 - val_accuracy: 0.4153\n",
            "Epoch 2/10\n",
            "1563/1563 [==============================] - 39s 25ms/step - loss: 1.6227 - accuracy: 0.4265 - val_loss: 1.5741 - val_accuracy: 0.4465\n",
            "Epoch 3/10\n",
            "1563/1563 [==============================] - 40s 26ms/step - loss: 1.5537 - accuracy: 0.4485 - val_loss: 1.6034 - val_accuracy: 0.4242\n",
            "Epoch 4/10\n",
            "1563/1563 [==============================] - 39s 25ms/step - loss: 1.4987 - accuracy: 0.4700 - val_loss: 1.4823 - val_accuracy: 0.4797\n",
            "Epoch 5/10\n",
            "1563/1563 [==============================] - 41s 26ms/step - loss: 1.4545 - accuracy: 0.4855 - val_loss: 1.5289 - val_accuracy: 0.4499\n",
            "Epoch 6/10\n",
            "1563/1563 [==============================] - 42s 27ms/step - loss: 1.4132 - accuracy: 0.5004 - val_loss: 1.4560 - val_accuracy: 0.4859\n",
            "Epoch 7/10\n",
            "1563/1563 [==============================] - 40s 26ms/step - loss: 1.3786 - accuracy: 0.5133 - val_loss: 1.4359 - val_accuracy: 0.4914\n",
            "Epoch 8/10\n",
            "1563/1563 [==============================] - 40s 26ms/step - loss: 1.3487 - accuracy: 0.5222 - val_loss: 1.3905 - val_accuracy: 0.5118\n",
            "Epoch 9/10\n",
            "1563/1563 [==============================] - 41s 26ms/step - loss: 1.3164 - accuracy: 0.5361 - val_loss: 1.4283 - val_accuracy: 0.4795\n",
            "Epoch 10/10\n",
            "1563/1563 [==============================] - 41s 26ms/step - loss: 1.2898 - accuracy: 0.5461 - val_loss: 1.3872 - val_accuracy: 0.5056\n"
          ]
        }
      ]
    },
    {
      "cell_type": "code",
      "source": [
        "# evaluate the network\n",
        "print(\"[INFO] evaluating network...\")\n",
        "predictions = model.predict(testX, batch_size=32)\n",
        "print(classification_report(testY.argmax(axis=1),\n",
        "\tpredictions.argmax(axis=1), target_names=labelNames))"
      ],
      "metadata": {
        "colab": {
          "base_uri": "https://localhost:8080/"
        },
        "id": "4C5Xgy-eRJhu",
        "outputId": "3dc690c3-8983-41b7-be14-6a160eab497a"
      },
      "execution_count": 14,
      "outputs": [
        {
          "output_type": "stream",
          "name": "stdout",
          "text": [
            "[INFO] evaluating network...\n",
            "313/313 [==============================] - 3s 10ms/step\n",
            "              precision    recall  f1-score   support\n",
            "\n",
            "    airplane       0.56      0.58      0.57      1000\n",
            "  automobile       0.51      0.80      0.62      1000\n",
            "        bird       0.37      0.49      0.42      1000\n",
            "         cat       0.34      0.41      0.37      1000\n",
            "        deer       0.57      0.23      0.33      1000\n",
            "         dog       0.39      0.47      0.42      1000\n",
            "        frog       0.61      0.50      0.55      1000\n",
            "       horse       0.62      0.54      0.58      1000\n",
            "        ship       0.64      0.65      0.65      1000\n",
            "       truck       0.68      0.37      0.48      1000\n",
            "\n",
            "    accuracy                           0.51     10000\n",
            "   macro avg       0.53      0.51      0.50     10000\n",
            "weighted avg       0.53      0.51      0.50     10000\n",
            "\n"
          ]
        }
      ]
    },
    {
      "cell_type": "code",
      "source": [
        "# plot the training loss and accuracy\n",
        "plt.style.use(\"ggplot\")\n",
        "plt.figure()\n",
        "plt.plot(np.arange(0, 10), H.history[\"loss\"], label=\"train_loss\")\n",
        "plt.plot(np.arange(0, 10), H.history[\"val_loss\"], label=\"val_loss\")\n",
        "plt.plot(np.arange(0, 10), H.history[\"accuracy\"], label=\"train_acc\")\n",
        "plt.plot(np.arange(0, 10), H.history[\"val_accuracy\"], label=\"val_acc\")\n",
        "plt.title(\"Training Loss and Accuracy\")\n",
        "plt.xlabel(\"Epoch #\")\n",
        "plt.ylabel(\"Loss/Accuracy\")\n",
        "plt.legend()\n"
      ],
      "metadata": {
        "colab": {
          "base_uri": "https://localhost:8080/",
          "height": 316
        },
        "id": "CJlCeMn5ROn9",
        "outputId": "f74e9a49-3a2f-4d56-f1ae-fc80302fbbad"
      },
      "execution_count": 24,
      "outputs": [
        {
          "output_type": "execute_result",
          "data": {
            "text/plain": [
              "<matplotlib.legend.Legend at 0x7f050341a890>"
            ]
          },
          "metadata": {},
          "execution_count": 24
        },
        {
          "output_type": "display_data",
          "data": {
            "text/plain": [
              "<Figure size 432x288 with 1 Axes>"
            ],
            "image/png": "[encoded data removed]"
          },
          "metadata": {}
        }
      ]
    }
  ]
}